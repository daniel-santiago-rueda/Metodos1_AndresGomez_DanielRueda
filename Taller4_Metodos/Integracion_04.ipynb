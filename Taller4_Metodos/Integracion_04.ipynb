{
 "cells": [
  {
   "cell_type": "markdown",
   "metadata": {},
   "source": [
    "### Demostrar $\\int_{a}^b \\epsilon(x)dx = \\int_{a}^b \\frac{f^{'''}(\\xi)}{4!}(x-a)(x-b)\\Big(x-\\frac{(a+b)}{2}\\Big)dx = 0$\n",
    "\n"
   ]
  },
  {
   "cell_type": "markdown",
   "metadata": {},
   "source": [
    "$$\\int_{a}^b \\epsilon(x)dx = \\frac{f^{'''}(\\xi)}{4!} \\int_{a}^b x^3+\\frac{-ax^2-x^2b+xb^2+xa^2-a^2b-ab^2+2abx}{2}-x^2b-ax^2+abx \\space dx$$\n",
    "$$=  \\frac{f^{'''}(\\xi)}{4!} \\Big[\\frac{x^4}{4}+\\frac{1}{2}\\Big(\\frac{-ax^3}{3}-\\frac{bx^3}{3}+\\frac{b^2x^2}{2}+\\frac{a^2x^2}{2}-a^2bx-ab^2x+\\frac{2abx^2}{2}\\Big)-\\frac{bx^3}{3}-\\frac{ax^3}{3}+\\frac{abx^2}{2}\\Big]\\Big|_{a}^b$$\n",
    "$$=\\frac{f^{'''}(\\xi)}{4!} \\Big[-\\frac{b^4}{12}+\\frac{b^4-3a^2b^2-2b^3a}{12}-\\frac{ab^3}{3}+\\frac{ab^3}{2}-\\left(\\frac{a^4}{4}+\\frac{a^4-2a^3b+3b^2a^2-6a^2b^2}{12}+\\frac{-ba^3-a^4}{3}+\\frac{a^3b}{2}\\right)\\Big]$$\n",
    "$$= \\frac{f^{'''}(\\xi)}{4!} \\Big[-\\frac{b^4}{12}+\\frac{b^4-3a^2b^2-2b^3a}{12}-\\frac{ab^3}{3}+\\frac{ab^3}{2}+\\frac{b^2a^2}{4}\\Big]$$\n",
    "$$= \\frac{f^{'''}(\\xi)}{4!}\\Big[\\frac{-b^4+b^4-3a^2b^2-2ab^3-4ab^3+6ab^3+3a^2b^2}{12}\\Big]$$\n",
    "$$= \\frac{f^{'''}(\\xi)}{4!}[0]$$\n",
    "$$= 0 \\space \\square$$"
   ]
  }
 ],
 "metadata": {
  "language_info": {
   "name": "python"
  },
  "orig_nbformat": 4
 },
 "nbformat": 4,
 "nbformat_minor": 2
}
