{
 "cells": [
  {
   "cell_type": "markdown",
   "metadata": {},
   "source": [
    "Evaluar $$\\int_{1}^2 \\frac{1}{x^2}dx$$usando *cuadratura de Gauss-Legendre* con 2 y 3 puntos.\n",
    "\n",
    "Para un número $n$ de puntos se tiene que \n",
    "$$\n",
    "\\int_a^bf(x)dx = \\frac{1}{2}(b-a)\\sum_1^n w_kf(\\frac{1}{2}[t_k(b-a)+a+b]), \\quad k=1, \\ldots, n.\n",
    "$$\n",
    "En este caso, $a=1, b=2$, por lo que \n",
    "$$\n",
    "\\int_1^2f(x)dx = \\frac{1}{2}\\sum_1^n w_kf(\\frac{1}{2}[t_k+3]), \\quad k=1, \\ldots, n.\n",
    "$$\n",
    "Cada peso $w_k$ y cada $t_k$ están dados por \n",
    "$$\n",
    "w_k=\\frac{2}{(1-x_k^2)[p'_n(x_k)]^2}, \\quad t_k = \\frac{2x_k-a-b}{b-a}=2x_k-3\n",
    "$$\n",
    "En donde cada $x_k$ hace referencia a cada una de las $n$ raíces del $n$-ésimo polinomio de Legendre.\n",
    "Se implementa a continuación el código para 2 y 3 puntos."
   ]
  },
  {
   "cell_type": "code",
   "execution_count": 11,
   "metadata": {},
   "outputs": [],
   "source": [
    "import numpy as np\n",
    "import sympy as sym\n",
    "from tqdm import tqdm"
   ]
  },
  {
   "cell_type": "code",
   "execution_count": 12,
   "metadata": {},
   "outputs": [],
   "source": [
    "def GetLegendre(n):\n",
    "    '''\n",
    "    Calcula el n-ésimo polinomio de Legendre haciendo uso de la\n",
    "    fórmula de rodrigues.\n",
    "    Parámetros:\n",
    "        n: grado del polinomio de Legendre que se quiere estimar.\n",
    "    Retornos:\n",
    "        plambda: polinomio de Legendre estimado convertido en función mediante lambdify.\n",
    "        p = polinomio simbolizado de Legendre.\n",
    "    '''\n",
    "    x = sym.Symbol('x', Real=True)\n",
    "    y = sym.Symbol('y', Real=True)\n",
    "\n",
    "    y = (x**2-1)**n\n",
    "    p = sym.diff(y, x, n)/(2**n*np.math.factorial(n)) #derivada n-esima de y con respecto a x\n",
    "\n",
    "    plambda = sym.lambdify([x], p, 'numpy')\n",
    "    return plambda, p\n"
   ]
  },
  {
   "cell_type": "code",
   "execution_count": 13,
   "metadata": {},
   "outputs": [],
   "source": [
    "def GetRootsLegendre(f, df, xn, itmax=1000, precision = 1e-5):\n",
    "    '''\n",
    "    Calcula las raíces de un polinomio de Legendre con el método de Newton-Raphson\n",
    "    Parámetros:\n",
    "        f: polinomio de Legendre.\n",
    "        df: derivada primera del polinomio f.\n",
    "        xn: punto de partida para el método Newton-Raphson.\n",
    "    Retornos:\n",
    "        xn: raíz encontrada\n",
    "    '''\n",
    "    error = 1\n",
    "    it = 0\n",
    "    while error>precision and it<itmax:\n",
    "        try:\n",
    "            xn1 = xn - f(xn)/df(xn)\n",
    "            error = np.abs(f(xn)/df(xn))\n",
    "        except ZeroDivisionError:\n",
    "            print('División por cero')\n",
    "        xn = xn1\n",
    "        it += 1\n",
    "    if it == itmax:\n",
    "        return False\n",
    "    else:\n",
    "        return xn"
   ]
  },
  {
   "cell_type": "code",
   "execution_count": 14,
   "metadata": {},
   "outputs": [],
   "source": [
    "def GetAllRoots(n, tol=6):\n",
    "    '''\n",
    "    Retorna las n raíces de un polinomio de grado n de Legendre.\n",
    "    Parámetros:\n",
    "        n: grado del polinomio.\n",
    "    Retornos:\n",
    "        roots: lista con las raíces encontradas, ordenadas de menor a mayor.\n",
    "    '''\n",
    "    x_trial = np.linspace(-1, 1, 200)\n",
    "    roots = np.array([])\n",
    "    poly,p = GetLegendre(n)\n",
    "    x = sym.Symbol('x', Real=True)\n",
    "    df = sym.diff(p, x, 1)\n",
    "    df = sym.lambdify([x], df, 'numpy')\n",
    "    for i in tqdm(x_trial):\n",
    "        root = GetRootsLegendre(poly, df, i)\n",
    "        croot = np.round(root, tol)\n",
    "        if croot not in roots:\n",
    "            roots = np.append(roots, croot)\n",
    "    roots.sort()\n",
    "    return roots"
   ]
  },
  {
   "cell_type": "code",
   "execution_count": 15,
   "metadata": {},
   "outputs": [],
   "source": [
    "def GetWeights(Roots, dpoly):\n",
    "    '''\n",
    "    Calcula los pesos asociados a raíces de Legendre para la Cuadratura de Gauss-Legendre.\n",
    "    Parámetros:\n",
    "        Roots: lista con las raíces del polinomio de Legendre.\n",
    "    Retornos:\n",
    "        Weights: Lista de pesos asociados a cada raíz en Roots, a la i-esima entrada de Roots\n",
    "        le corresponde el peso i-esimo en Weights.\n",
    "    '''\n",
    "    x = sym.Symbol('x', Real=True)\n",
    "    Weights = []\n",
    "    dpn = sym.lambdify([x], dpoly,'numpy')\n",
    "    for r in Roots:\n",
    "        Weights.append(2/((1-r**2)*dpn(r)**2))\n",
    "\n",
    "    return Weights"
   ]
  },
  {
   "cell_type": "code",
   "execution_count": 16,
   "metadata": {},
   "outputs": [],
   "source": [
    "a=1\n",
    "b=2\n",
    "x = sym.Symbol('x', Real=True)\n",
    "f = lambda x: 1/x**2"
   ]
  },
  {
   "cell_type": "code",
   "execution_count": 17,
   "metadata": {},
   "outputs": [
    {
     "name": "stderr",
     "output_type": "stream",
     "text": [
      "100%|██████████| 200/200 [00:00<00:00, 15528.13it/s]\n",
      "100%|██████████| 200/200 [00:00<00:00, 11807.79it/s]"
     ]
    },
    {
     "name": "stdout",
     "output_type": "stream",
     "text": [
      "Para 2 puntos la integral estimada es 0.4970415996577904\n",
      "Para 3 puntos la integral estimada es 0.4998736894004501\n"
     ]
    },
    {
     "name": "stderr",
     "output_type": "stream",
     "text": [
      "\n"
     ]
    }
   ],
   "source": [
    "for i in [2, 3]:\n",
    "    Legendre_poly = GetLegendre(i)[1]\n",
    "    Der_Legendre = sym.diff(Legendre_poly, x, 1)\n",
    "    Roots = GetAllRoots(i)\n",
    "    Weights = GetWeights(Roots, Der_Legendre)\n",
    "    t = 0.5*((b-a)*Roots + a + b)\n",
    "    Integral = 0.5*(b-a)*np.sum(Weights*f(t))\n",
    "    print('Para ' + str(i) + ' puntos la integral estimada es '+ str(Integral))"
   ]
  }
 ],
 "metadata": {
  "interpreter": {
   "hash": "40d3a090f54c6569ab1632332b64b2c03c39dcf918b08424e98f38b5ae0af88f"
  },
  "kernelspec": {
   "display_name": "Python 3.8.5 ('base')",
   "language": "python",
   "name": "python3"
  },
  "language_info": {
   "codemirror_mode": {
    "name": "ipython",
    "version": 3
   },
   "file_extension": ".py",
   "mimetype": "text/x-python",
   "name": "python",
   "nbconvert_exporter": "python",
   "pygments_lexer": "ipython3",
   "version": "3.8.5"
  },
  "orig_nbformat": 4
 },
 "nbformat": 4,
 "nbformat_minor": 2
}
