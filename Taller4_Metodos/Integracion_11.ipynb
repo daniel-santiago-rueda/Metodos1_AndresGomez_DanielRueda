{
 "cells": [
  {
   "cell_type": "markdown",
   "metadata": {},
   "source": [
    "Calcular $$\\int_{-1}^1 \\sqrt{1+e^{-x^2}}dx$$ Usando regla de Simposon $3/8$. \n",
    "\n",
    "Se puede generalizar la regla de Simpson 3/8 a una regla compuesta equiespaciada. Sea $\\Omega = \\{(x_0, f(x_0)), \\ldots, (x_n, f(x_n))\\}$ un conjunto soporte, y sea tal que $h = x_{i+1}-x_i$.\n",
    "También, $x_0=a, x_n=b, h=\\frac{b-a}{n}$. Se puede definir\n",
    "\n",
    "$$\n",
    "\\int_a^bf(x)dx  = \\int_{a}^{x_3}f(x)dx + \\int_{x_3}^{x_6}f(x)dx + \\cdots + \\int_{x_{n-3}}^{b}f(x)dx\n",
    "$$\n",
    "\n",
    "Luego con la definición de regla de Simpson 3/8 se tendrá que \n",
    "$$\n",
    "\\int_a^bf(x)dx = \\frac{3h}{8}(f(a)+3f(x_1)+3f(x_2)+f(x_3)+f(x_3)+3f(x_4)+3f(x_5)+f(x_6)+\\cdots + f(x_{n-3})+3f(x_{n-2})+3f(x_{n-1})+f(b))\n",
    "  \\\\ = \\frac{3h}{8}\\left(f(a) + 3\\sum_{i=1, i\\equiv_3 1}^{n-2}f(x_i) + 3\\sum_{i=2, i\\equiv_3 2}^{n-1}f(x_i)+ 2\\sum_{i=3, i\\equiv_3 0}^{n-3}f(x_i)+f(b)\\right).\n",
    "$$\n",
    "El número de puntos de la partición debe ser de la forma $3n+1, \\, n\\in\\N \\land n\\geq 1$.\n",
    "\n",
    "A continuación se implementa este método para el cálculo de la integral propuesta."
   ]
  },
  {
   "cell_type": "code",
   "execution_count": 193,
   "metadata": {},
   "outputs": [],
   "source": [
    "import numpy as np\n",
    "from tqdm import tqdm"
   ]
  },
  {
   "cell_type": "code",
   "execution_count": 194,
   "metadata": {},
   "outputs": [],
   "source": [
    "def Simpson3_8(y,h):\n",
    "    integral = 0.\n",
    "    integral += y[0]+y[-1]\n",
    "    for i in tqdm(range(1,len(y)-1)):\n",
    "        if i%3==0:\n",
    "            integral += 2*y[i]\n",
    "        elif i%3!=0:\n",
    "            integral += 3*y[i]\n",
    "    return integral*(3*h/8)"
   ]
  },
  {
   "cell_type": "code",
   "execution_count": 195,
   "metadata": {},
   "outputs": [
    {
     "name": "stderr",
     "output_type": "stream",
     "text": [
      "100%|██████████| 299/299 [00:00<00:00, 400158.55it/s]\n"
     ]
    },
    {
     "data": {
      "text/plain": [
       "2.6388571169484623"
      ]
     },
     "execution_count": 195,
     "metadata": {},
     "output_type": "execute_result"
    }
   ],
   "source": [
    "def f(x):\n",
    "    return np.sqrt(1+np.exp(-x**2))\n",
    "\n",
    "x, h = np.linspace(-1, 1, 301, retstep=True)\n",
    "y = f(x)\n",
    "\n",
    "Integral = Simpson3_8(y, h)\n",
    "Integral"
   ]
  }
 ],
 "metadata": {
  "interpreter": {
   "hash": "40d3a090f54c6569ab1632332b64b2c03c39dcf918b08424e98f38b5ae0af88f"
  },
  "kernelspec": {
   "display_name": "Python 3.8.5 ('base')",
   "language": "python",
   "name": "python3"
  },
  "language_info": {
   "codemirror_mode": {
    "name": "ipython",
    "version": 3
   },
   "file_extension": ".py",
   "mimetype": "text/x-python",
   "name": "python",
   "nbconvert_exporter": "python",
   "pygments_lexer": "ipython3",
   "version": "3.8.5"
  },
  "orig_nbformat": 4
 },
 "nbformat": 4,
 "nbformat_minor": 2
}
