{
 "cells": [
  {
   "cell_type": "code",
   "execution_count": 1,
   "metadata": {},
   "outputs": [],
   "source": [
    "import numpy as np"
   ]
  },
  {
   "cell_type": "code",
   "execution_count": 3,
   "metadata": {},
   "outputs": [
    {
     "data": {
      "text/plain": [
       "'1.99999'"
      ]
     },
     "execution_count": 3,
     "metadata": {},
     "output_type": "execute_result"
    }
   ],
   "source": [
    "#Se define la función\n",
    "def f(x): return np.exp(-x**2)\n",
    "\n",
    "#Se estima el máximo de la segunda derivada en el intervalo [0,1] con un h de 0.001\n",
    "#Note que el orden de la estimación sería de h^2 = 10^-6\n",
    "x, h = np.linspace(0, 1, 1000, retstep=True)\n",
    "d = (f(x+h)-2*f(x)+f(x-h))/h**2\n",
    "maxd = np.max(np.abs(d))\n",
    "\n",
    "#Se imprime, teniendo en cuenta el orden de la estimación, el valor máximo aproximado de la segunda derivada\n",
    "str(maxd)[0:7]"
   ]
  },
  {
   "cell_type": "markdown",
   "metadata": {},
   "source": [
    "A partir de la fórmula del error del método del trapecio compuesto $|E|\\leq \\frac{h^2(b-a)}{12}max|f^{''}(\\xi)|$, se obtiene la expresión siguiente:\n",
    "$$n \\geq \\sqrt{\\frac{(b-a)^3}{12E}max|f^{''}(\\xi)|}$$\n",
    "\n",
    "Con dicha expresión se calcula el valor mínimo de $n$ a partir del valor $E=0.005$, dado en el enunciado, y del valor $max|f^{''}(\\xi) = 1.99999$ obtenido anteriormente:\n",
    "$$n \\geq \\sqrt{\\frac{(1)^3}{12(0.005)}(1.99999)} \\approx 5.77349 = 6$$\n",
    "\n",
    "Por lo tanto, se prosigue a calcular la integral utilizando el método del trapecio compuesto con $n = 6$ trapecios, es decir, $n + 1 = 7$ puntos."
   ]
  },
  {
   "cell_type": "code",
   "execution_count": 9,
   "metadata": {},
   "outputs": [
    {
     "data": {
      "text/plain": [
       "('Integral: 0.7451194124361793', 'Error: 0.004565920480608619')"
      ]
     },
     "execution_count": 9,
     "metadata": {},
     "output_type": "execute_result"
    }
   ],
   "source": [
    "def uniform_trapezoid(y, h):\n",
    "    integral = 0.\n",
    "    integral += 0.5*(y[0]+y[-1])\n",
    "    integral += np.sum(y[1:-1])\n",
    "\n",
    "    return integral*h\n",
    "\n",
    "def uniform_trapezoid_error(x, f, h):\n",
    "    d = (f(x+h)-2*f(x)+f(x-h))/h**2\n",
    "    maxd = np.max(np.abs(d))\n",
    "\n",
    "    error = (maxd* (x[-1]-x[0])**3 )/(12*(len(x)-1)**2)\n",
    "\n",
    "    return error\n",
    "\n",
    "n = 6\n",
    "x = np.linspace(0, 1, n+1)\n",
    "y = f(x)\n",
    "h = (x[-1]-x[0])/n\n",
    "\n",
    "integral = uniform_trapezoid(y, h)\n",
    "error = uniform_trapezoid_error(x, f, h)\n",
    "\n",
    "\"Integral: \" + str(integral), \"Error: \" + str(error)"
   ]
  },
  {
   "cell_type": "markdown",
   "metadata": {},
   "source": [
    "Consecuentemente, el resultado sería:\n",
    "$$\\int_{0}^{1}e^{-x^2}dx \\approx (0.745 \\pm 0.005)$$\n",
    "\n",
    "Sin embargo, como la incertidumbre queda igual a 0.005 con el redondeo usual a una cifra significativa, entonces se utiliza $n = 7$ trapecios para calcular la integral y obtener un error estrictamente menor a 0.005 tras redondear la incertidumbre."
   ]
  },
  {
   "cell_type": "code",
   "execution_count": 10,
   "metadata": {},
   "outputs": [
    {
     "data": {
      "text/plain": [
       "('Integral: 0.7455719918300938', 'Error: 0.0033668876910492775')"
      ]
     },
     "execution_count": 10,
     "metadata": {},
     "output_type": "execute_result"
    }
   ],
   "source": [
    "n = 7\n",
    "x = np.linspace(0, 1, n+1)\n",
    "y = f(x)\n",
    "h = (x[-1]-x[0])/n\n",
    "\n",
    "integral = uniform_trapezoid(y, h)\n",
    "error = uniform_trapezoid_error(x, f, h)\n",
    "\n",
    "\"Integral: \" + str(integral), \"Error: \" + str(error)"
   ]
  },
  {
   "cell_type": "markdown",
   "metadata": {},
   "source": [
    "Luego el resultado final es:\n",
    "$$\\int_{0}^{1}e^{-x^2}dx \\approx (0.746 \\pm 0.003)$$"
   ]
  }
 ],
 "metadata": {
  "kernelspec": {
   "display_name": "Python 3.10.6 64-bit",
   "language": "python",
   "name": "python3"
  },
  "language_info": {
   "codemirror_mode": {
    "name": "ipython",
    "version": 3
   },
   "file_extension": ".py",
   "mimetype": "text/x-python",
   "name": "python",
   "nbconvert_exporter": "python",
   "pygments_lexer": "ipython3",
   "version": "3.10.6"
  },
  "orig_nbformat": 4,
  "vscode": {
   "interpreter": {
    "hash": "6847c98a8f86b01c6a19c518cd2f366693b80566b266804d5ca763cbb223f52b"
   }
  }
 },
 "nbformat": 4,
 "nbformat_minor": 2
}
