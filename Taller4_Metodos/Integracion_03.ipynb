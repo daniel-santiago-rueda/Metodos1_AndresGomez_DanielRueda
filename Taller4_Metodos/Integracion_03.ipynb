{
 "cells": [
  {
   "cell_type": "markdown",
   "metadata": {},
   "source": [
    "## Demostrar $\\int_{a}^bf(x)dx \\approx \\int_{a}^bp_{2}(x)dx = \\frac{h}{3}(f(a) + 4f(x_{m}) + f(b))$.\n",
    "\n",
    "Debido a que $f(x) \\approx p_{2}(x) = \\frac{(x - b)(x - x_{m})}{(a - b)(a - x_{m})}f(a) + \\frac{(x - a)(x - b)}{(x_{m} - a)(x_{m} - b)}f(x_{m}) + \\frac{(x - a)(x - x_{m})}{(b - a)(b - x_{m})}f(b) \\space \\forall x \\in [a, b]$, se obtiene que:\n",
    "$$\\int_{a}^bf(x)dx \\approx \\int_{a}^bp_{2}(x)dx = \\int_{a}^b\\frac{(x - b)(x - x_{m})}{(a - b)(a - x_{m})}f(a) + \\frac{(x - a)(x - b)}{(x_{m} - a)(x_{m} - b)}f(x_{m}) + \\frac{(x - a)(x - x_{m})}{(b - a)(b - x_{m})}f(b)dx$$\n",
    "$$\\int_{a}^bp_{2}(x)dx = \\int_{a}^b\\frac{(x - b)(x - x_{m})}{(a - b)(a - x_{m})}f(a)dx + \\int_{a}^b\\frac{(x - a)(x - b)}{(x_{m} - a)(x_{m} - b)}f(x_{m})dx + \\int_{a}^b\\frac{(x - a)(x - x_{m})}{(b - a)(b - x_{m})}f(b)dx \\space \\space \\space(1)$$\n",
    "\n",
    "Entonces, teniendo en cuenta que $x_{m} = \\frac{a+b}{2}$, se integra cada término:\n",
    "$$\\int _a^b\\frac{\\left(x\\:-\\:b\\right)\\left(x\\:-\\:\\left(\\frac{a+b}{2}\\right)\\right)}{\\left(a\\:-\\:b\\right)\\left(a\\:-\\:\\left(\\frac{a+b}{2}\\right)\\right)}f(a)dx$$\n",
    "$$= \\frac{2f(a)}{\\left(a-b\\right)^2} \\int _a^bx^2-\\frac{3bx}{2}-\\frac{ax}{2}+\\frac{b^2}{2}+\\frac{ba}{2}dx$$\n",
    "$$= \\frac{2f(a)}{(a-b)^2}\\left(\\frac{b^3-a^3}{3}-\\frac{3b\\left(b^2-a^2\\right)}{4}-\\frac{a\\left(b^2-a^2\\right)}{4}+\\frac{b^3-b^2a}{2}+\\frac{b^2a-ba^2}{2}\\right)$$\n",
    "$$= \\frac{f(a)\\left(b^3-a^3+3ba^2-3b^2a\\right)}{6\\left(-b+a\\right)^2}$$\n",
    "$$= \\frac{-f(a)(a-b)^3}{6(a-b)^2}$$\n",
    "$$= \\frac{f(a)\\left(b-a\\right)}{6} \\space \\space \\space(2)$$\n",
    "$$\\space$$\n",
    "$$\\int _a^b\\frac{\\left(x\\:-\\:a\\right)\\left(x\\:-\\:b\\right)}{\\left(\\left(\\frac{a+b}{2}\\right)\\:-\\:a\\right)\\left(\\left(\\frac{a+b}{2}\\right)\\:-\\:b\\right)}f(x_{m}) \\space dx$$\n",
    "$$= \\frac{4f(x_{m})}{(b-a)\\left(a-b\\right)} \\int _a^b\\left(x-a\\right)\\left(x-b\\right)dx$$\n",
    "$$= \\frac{4f(x_{m})}{(b-a)\\left(a-b\\right)} \\int _a^bx^2-xb-ax+ab \\space dx$$\n",
    "$$= \\frac{4f(x_{m})}{(b-a)\\left(a-b\\right)} \\Big(\\frac{b^3-a^3}{3}-\\frac{b\\left(b^2-a^2\\right)}{2}-\\frac{a\\left(b^2-a^2\\right)}{2}+ab^2-a^2b\\Big)$$\n",
    "$$= \\frac{4f(x_{m})}{(b-a)(a-b)}\\left(\\frac{\\left(b-a\\right)^3}{12}-a^2b+ab^2-\\frac{\\left(b-a\\right)\\left(-a-b\\right)^2}{4}\\right)$$\n",
    "$$= -\\frac{2f(x_{m})\\left(a-b\\right)}{3}$$\n",
    "$$= \\frac{2f(x_{m})\\left(b-a\\right)}{3} \\space \\space \\space(3)$$\n",
    "$$\\space$$\n",
    "$$\\int _a^b\\frac{\\left(x\\:-\\:a\\right)\\left(x\\:-\\:\\left(\\frac{a+b}{2}\\right)\\right)}{\\left(b\\:-\\:a\\right)\\left(b\\:-\\:\\left(\\frac{a+b}{2}\\right)\\right)}f(b) \\space dx$$\n",
    "$$= \\frac{2f(b)}{\\left(b-a\\right)^2} \\int _a^b\\left(x-\\frac{a+b}{2}\\right)\\left(x-a\\right)dx$$\n",
    "$$= \\frac{2f(b)}{\\left(b-a\\right)^2} \\int _a^bx^2-\\frac{3ax}{2}-\\frac{bx}{2}+\\frac{a^2}{2}+\\frac{ab}{2} \\space dx$$\n",
    "$$= \\frac{2f(b)}{\\left(b-a\\right)^2}\\left(\\frac{b^3-a^3}{3}-\\frac{3a\\left(b^2-a^2\\right)}{4}-\\frac{b\\left(b^2-a^2\\right)}{4}+\\frac{a^2b-a^3}{2}+\\frac{ab^2-a^2b}{2}\\right)$$\n",
    "$$= \\frac{f(b)\\left(-a^3+3a^2b-3ab^2+b^3\\right)}{6\\left(b-a\\right)^2}$$\n",
    "$$= \\frac{-f(b)(a-b)^3}{6\\left(a-b\\right)^2}$$\n",
    "$$= \\frac{-f(b)(a-b)}{6}$$\n",
    "$$= \\frac{f(b)(b-a)}{6} \\space \\space \\space(4)$$\n",
    "\n",
    "Luego, reemplazando los resultados (2), (3) y (4) en la ecuación (1) se obtiene:\n",
    "$$\\int_{a}^bp_{2}(x)dx = \\frac{f(a)\\left(b-a\\right)}{6} + \\frac{2f(x_{m})\\left(b-a\\right)}{3} + \\frac{f(b)(b-a)}{6} = \\frac{(b-a)}{6}\\big(f(a)+4f(x_{m})+f(b)\\big)$$\n",
    "Y tomando $h = \\frac{b-a}{2}$ se llega a la expresión deseada:\n",
    "$$\\int_{a}^bf(x)dx \\approx \\int_{a}^bp_{2}(x)dx = \\frac{h}{3}\\big(f(a)+4f(x_{m})+f(b)\\big) \\space \\square$$"
   ]
  }
 ],
 "metadata": {
  "kernelspec": {
   "display_name": "Python 3.10.6 64-bit",
   "language": "python",
   "name": "python3"
  },
  "language_info": {
   "name": "python",
   "version": "3.10.6"
  },
  "orig_nbformat": 4,
  "vscode": {
   "interpreter": {
    "hash": "6847c98a8f86b01c6a19c518cd2f366693b80566b266804d5ca763cbb223f52b"
   }
  }
 },
 "nbformat": 4,
 "nbformat_minor": 2
}
