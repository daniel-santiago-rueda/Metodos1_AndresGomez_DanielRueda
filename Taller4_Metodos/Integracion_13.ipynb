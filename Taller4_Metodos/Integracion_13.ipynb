{
 "cells": [
  {
   "cell_type": "markdown",
   "metadata": {},
   "source": [
    "## Escribir $p(x) = 3 + 5x + x^2$ en la base de Legendre\n",
    "\n",
    "A partir de la ecuación $p_{n}(x) = \\frac{1}{2^nn!} \\frac{d^n}{dx^n} (x^2-1)^n$ se calculan los polinomios de Legendre necesarios:\n",
    "$$p_{0}(x) = 1$$\n",
    "$$p_{1}(x) = x$$\n",
    "$$p_{2}(x) = \\frac{1}{2}(3x^2-1)$$\n",
    "\n",
    "Posteriormente, se calculan los primeros dos términos de $p(x)$, los cuales son triviales:\n",
    "$$3 = 3p_{0}(x)$$\n",
    "$$5x = 5p_{1}(x)$$\n",
    "\n",
    "Luego, se calcula el término cuadrático:\n",
    "$$2p_{2}(x) = 3x^2-1$$\n",
    "$$2p_{2}(x) + 1 = 3x^2$$\n",
    "$$\\frac{1}{3}(2p_{2}(x) + 1) = x^2$$\n",
    "$$x^2 = \\frac{1}{3}(2p_{2}(x) + 1)$$\n",
    "\n",
    "Finalmente, se reemplaza en $p(x)$ para obtener la expresión deseada:\n",
    "$$p(x) = 3p_{0}(x) + 5p_{1}(x) + \\frac{1}{3}(2p_{2}(x) + 1)$$\n",
    "$$p(x) = 3 + 5p_{1}(x) + \\frac{2}{3} p_{2}(x) + \\frac{1}{3}$$\n",
    "$$p(x) = \\frac{10}{3} + 5p_{1}(x) + \\frac{2}{3} p_{2}(x)$$\n",
    "$$p(x) = \\frac{10}{3}p_{0}(x) + 5p_{1}(x) + \\frac{2}{3} p_{2}(x) \\space \\square$$"
   ]
  }
 ],
 "metadata": {
  "kernelspec": {
   "display_name": "Python 3.10.6 64-bit",
   "language": "python",
   "name": "python3"
  },
  "language_info": {
   "name": "python",
   "version": "3.10.6"
  },
  "orig_nbformat": 4,
  "vscode": {
   "interpreter": {
    "hash": "6847c98a8f86b01c6a19c518cd2f366693b80566b266804d5ca763cbb223f52b"
   }
  }
 },
 "nbformat": 4,
 "nbformat_minor": 2
}
