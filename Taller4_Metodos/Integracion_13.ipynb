{
 "cells": [
  {
   "cell_type": "markdown",
   "metadata": {},
   "source": [
    "Escribir $p(x) = 3 + 5x + x^2$ en la base de Legendre.\n",
    "\n",
    "A partir de la ecuación $p_{n}(x) = \\frac{1}{2^nn!} \\frac{d^n}{dx^n} (x^2-1)^n$ se calculan los polinomios de Legendre necesarios:\n",
    "$$p_{0}(x) = 1$$\n",
    "$$p_{1}(x) = x$$\n",
    "$$p_{2}(x) = \\frac{1}{2}(3x^2-1)$$\n",
    "\n",
    "Posteriormente, se calculan los primeros dos términos de $p(x)$, los cuales son triviales:\n",
    "$$3 = 3p_{0}(x)$$\n",
    "$$5x = 5p_{1}(x)$$\n",
    "\n",
    "Luego, se calcula el término cuadrático:\n",
    "$$2p_{2}(x) = 3x^2-1$$\n",
    "$$2p_{2}(x) + 1 = 3x^2$$\n",
    "$$\\frac{1}{3}(2p_{2}(x) + 1) = x^2$$\n",
    "$$x^2 = \\frac{1}{3}(2p_{2}(x) + 1)$$\n",
    "\n",
    "Finalmente, se reemplaza en $p(x)$ para obtener la expresión deseada:\n",
    "$$p(x) = 3p_{0}(x) + 5p_{1}(x) + \\frac{1}{3}(2p_{2}(x) + 1)$$\n",
    "$$p(x) = 3 + 5p_{1}(x) + \\frac{2}{3} p_{2}(x) + \\frac{1}{3}$$\n",
    "$$p(x) = \\frac{10}{3} + 5p_{1}(x) + \\frac{2}{3} p_{2}(x)$$\n",
    "$$p(x) = \\frac{10}{3}p_{0}(x) + 5p_{1}(x) + \\frac{2}{3} p_{2}(x) \\space \\square$$"
   ]
  }
 ],
 "metadata": {
  "language_info": {
   "name": "python"
  },
  "orig_nbformat": 4
 },
 "nbformat": 4,
 "nbformat_minor": 2
}
