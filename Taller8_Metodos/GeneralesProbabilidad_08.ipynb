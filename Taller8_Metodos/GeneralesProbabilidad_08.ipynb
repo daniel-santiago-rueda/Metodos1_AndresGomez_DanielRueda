{
 "cells": [
  {
   "cell_type": "markdown",
   "metadata": {},
   "source": [
    "Se lanzan simultáneamente 4 monedas. Determine la probabilidad de obtener dos caras\n",
    "y dos sellos.\n",
    "\n",
    "*R:* El número de posibilidades es $2^4=16$, la posibilidad de cada caso es $\\frac{1}{16}$. Para calcular el número de casos se hace\n",
    "\n",
    "$$C^4_2=\\begin{pmatrix}4\\\\2\\end{pmatrix}=\\frac{4!}{2!2!}=6.$$\n",
    "Y la probabilidad será entonces $\\frac{6}{16}=\\frac{3}{8}=0.375$."
   ]
  },
  {
   "cell_type": "markdown",
   "metadata": {},
   "source": [
    "Realice el c´alculo de esta probabilidad usando un experimento\n",
    "virtual con N = 105\n",
    "eventos, y etiquetando los resultados con +1 y -1 para cara y sello\n",
    "respectivamente."
   ]
  },
  {
   "cell_type": "markdown",
   "metadata": {},
   "source": [
    "Realice el cálculo de esta probabilidad usando un experimento virtual con $N = 10^5$\n",
    "eventos, y etiquetando los resultados con $+1$ y $-1$ para cara y sello\n",
    "respectivamente."
   ]
  },
  {
   "cell_type": "code",
   "execution_count": 2,
   "metadata": {},
   "outputs": [
    {
     "data": {
      "text/plain": [
       "0.37519"
      ]
     },
     "execution_count": 2,
     "metadata": {},
     "output_type": "execute_result"
    }
   ],
   "source": [
    "import numpy as np\n",
    "\n",
    "events = [-1, +1]\n",
    "good = 0\n",
    "for i in range(int(1e5)):\n",
    "    m1 = np.random.choice(events)\n",
    "    m2 = np.random.choice(events)\n",
    "    m3 = np.random.choice(events)\n",
    "    m4 = np.random.choice(events)\n",
    "    experiment = np.array([m1, m2, m3, m4])\n",
    "    if np.count_nonzero(experiment==1)==2:\n",
    "        good += 1\n",
    "\n",
    "good/int(1e5)"
   ]
  }
 ],
 "metadata": {
  "interpreter": {
   "hash": "40d3a090f54c6569ab1632332b64b2c03c39dcf918b08424e98f38b5ae0af88f"
  },
  "kernelspec": {
   "display_name": "Python 3.8.5 ('base')",
   "language": "python",
   "name": "python3"
  },
  "language_info": {
   "codemirror_mode": {
    "name": "ipython",
    "version": 3
   },
   "file_extension": ".py",
   "mimetype": "text/x-python",
   "name": "python",
   "nbconvert_exporter": "python",
   "pygments_lexer": "ipython3",
   "version": "3.8.5"
  },
  "orig_nbformat": 4
 },
 "nbformat": 4,
 "nbformat_minor": 2
}
