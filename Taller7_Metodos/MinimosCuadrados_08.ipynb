{
 "cells": [
  {
   "cell_type": "code",
   "execution_count": 1,
   "metadata": {},
   "outputs": [],
   "source": [
    "import numpy as np\n",
    "import matplotlib.pyplot as plt\n",
    "from matplotlib import cm"
   ]
  },
  {
   "cell_type": "markdown",
   "metadata": {},
   "source": [
    "Obtener la proyección ortogonal del vector $b=(-3, -3, 8, 9)$ en el subespacio $W$ ($p_W(b)$) con base \n",
    "$$\n",
    "\\mathcal{B} = \\{\\vec u_1, \\vec u_2, \\vec u_3\\} = \\{(3, 1, 0, 1), (1, 2, 1, 1), (−1, 0, 2, −1)\\}\n",
    "$$\n",
    "\n",
    "(a) Mediante mínimos cuadrados con \n",
    "$$\n",
    "A = \\begin{bmatrix}3&1&-1\\\\1&2&0\\\\0&1&2\\\\1&1&-1\\end{bmatrix}, \\quad b = \\begin{bmatrix}-3\\\\-3\\\\8\\\\9\\end{bmatrix}"
   ]
  },
  {
   "cell_type": "code",
   "execution_count": 8,
   "metadata": {},
   "outputs": [
    {
     "data": {
      "text/plain": [
       "array([[-1.],\n",
       "       [ 2.],\n",
       "       [ 1.]])"
      ]
     },
     "execution_count": 8,
     "metadata": {},
     "output_type": "execute_result"
    }
   ],
   "source": [
    "A = np.array([[3, 1, -1],[1, 2, 0],[0, 1, 2], [1, 1, -1]])\n",
    "b = np.array([[-3],[-3],[8],[9]])\n",
    "def GetFit(A,b):\n",
    "    \n",
    "    AT = np.dot(A.T,A)\n",
    "    bT = np.dot(A.T,b) \n",
    "\n",
    "    xsol = np.linalg.solve(AT,bT)\n",
    "    \n",
    "    return xsol\n",
    "\n",
    "solution = GetFit(A, b)\n",
    "solution"
   ]
  },
  {
   "cell_type": "code",
   "execution_count": 15,
   "metadata": {},
   "outputs": [
    {
     "name": "stdout",
     "output_type": "stream",
     "text": [
      "La proyección ortogonal del vector b en el subespacio es (-2, 3, 4, 0)\n"
     ]
    }
   ],
   "source": [
    "proyection = np.dot(A, solution)\n",
    "\n",
    "print('La proyección ortogonal del vector b en el subespacio es ({}, {}, {}, {})'.format(\n",
    "    round(proyection[0,0]), round(proyection[1,0]), round(proyection[2,0]), round(proyection[3,0])))"
   ]
  },
  {
   "cell_type": "markdown",
   "metadata": {},
   "source": [
    "(b) Ahora, con Gram-Shmidt se halla la base ortonormal \n",
    "$$\n",
    "\\vec v_1 = \\frac{1}{\\sqrt{11}}(3, 1, 0, 1)\n",
    "$$\n",
    "$$\n",
    "\\vec v_2 = \\frac{1}{\\sqrt{451}}(-7, 16, 11, 5)\n",
    "$$\n",
    "$$\n",
    "\\vec v_3 = \\frac{1}{\\sqrt{5494}}(19, -20, 58, -37)\n",
    "\n",
    "$$"
   ]
  },
  {
   "cell_type": "markdown",
   "metadata": {},
   "source": [
    "Se tiene entonces que la proyección de $b$ en $W$ es \n",
    "$$\n",
    "p_W(b) = \\langle b, v_1 \\rangle\\cdot v_1 +  \\langle b, v_2 \\rangle\\cdot v_2 +  \\langle b, v_3 \\rangle\\cdot v_3\n",
    "$$\n",
    "$$\n",
    "= -\\frac{3}{\\sqrt{11}} v_1 + \\frac{106}{\\sqrt{451}} v_2 - \\frac{134}{\\sqrt{5494}} v_3\n",
    "$$\n",
    "$$\n",
    "= \\frac{1}{11}(-9, -3, 0, -3) + \\frac{1}{451}(-742, 1696, 1116, 530) + \\frac{1}{5494}(2546, -2680, 7772, -4958)\n",
    "$$\n",
    "$$\n",
    "= (-2, 3, 4, 0)\n",
    "$$"
   ]
  }
 ],
 "metadata": {
  "interpreter": {
   "hash": "40d3a090f54c6569ab1632332b64b2c03c39dcf918b08424e98f38b5ae0af88f"
  },
  "kernelspec": {
   "display_name": "Python 3.8.5 ('base')",
   "language": "python",
   "name": "python3"
  },
  "language_info": {
   "codemirror_mode": {
    "name": "ipython",
    "version": 3
   },
   "file_extension": ".py",
   "mimetype": "text/x-python",
   "name": "python",
   "nbconvert_exporter": "python",
   "pygments_lexer": "ipython3",
   "version": "3.8.5"
  },
  "orig_nbformat": 4
 },
 "nbformat": 4,
 "nbformat_minor": 2
}
